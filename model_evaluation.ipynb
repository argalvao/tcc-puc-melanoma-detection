{
 "cells": [
  {
   "cell_type": "markdown",
   "id": "2fe721bc-71fa-47ef-905c-1ce90fd5ad16",
   "metadata": {},
   "source": [
    "Carregar os modelos"
   ]
  },
  {
   "cell_type": "code",
   "execution_count": 4,
   "id": "67bc9d4c-24fb-4444-8f46-c197a7444fae",
   "metadata": {},
   "outputs": [
    {
     "name": "stdout",
     "output_type": "stream",
     "text": [
      "Modelos carregados com sucesso!\n"
     ]
    },
    {
     "name": "stderr",
     "output_type": "stream",
     "text": [
      "/tmp/ipykernel_1611079/3992971126.py:11: FutureWarning: You are using `torch.load` with `weights_only=False` (the current default value), which uses the default pickle module implicitly. It is possible to construct malicious pickle data which will execute arbitrary code during unpickling (See https://github.com/pytorch/pytorch/blob/main/SECURITY.md#untrusted-models for more details). In a future release, the default value for `weights_only` will be flipped to `True`. This limits the functions that could be executed during unpickling. Arbitrary objects will no longer be allowed to be loaded via this mode unless they are explicitly allowlisted by the user via `torch.serialization.add_safe_globals`. We recommend you start setting `weights_only=True` for any use case where you don't have full control of the loaded file. Please open an issue on GitHub for any issues related to this experimental feature.\n",
      "  mobilenet.load_state_dict(torch.load('/home/abel/Downloads/TCC-PUC-Melanoma-Detection/result_models/mobilenet_v2_melanoma.pth'))\n",
      "/tmp/ipykernel_1611079/3992971126.py:15: FutureWarning: You are using `torch.load` with `weights_only=False` (the current default value), which uses the default pickle module implicitly. It is possible to construct malicious pickle data which will execute arbitrary code during unpickling (See https://github.com/pytorch/pytorch/blob/main/SECURITY.md#untrusted-models for more details). In a future release, the default value for `weights_only` will be flipped to `True`. This limits the functions that could be executed during unpickling. Arbitrary objects will no longer be allowed to be loaded via this mode unless they are explicitly allowlisted by the user via `torch.serialization.add_safe_globals`. We recommend you start setting `weights_only=True` for any use case where you don't have full control of the loaded file. Please open an issue on GitHub for any issues related to this experimental feature.\n",
      "  resnet.load_state_dict(torch.load('/home/abel/Downloads/TCC-PUC-Melanoma-Detection/result_models/resnet_50_melanoma.pth'))\n",
      "/tmp/ipykernel_1611079/3992971126.py:19: FutureWarning: You are using `torch.load` with `weights_only=False` (the current default value), which uses the default pickle module implicitly. It is possible to construct malicious pickle data which will execute arbitrary code during unpickling (See https://github.com/pytorch/pytorch/blob/main/SECURITY.md#untrusted-models for more details). In a future release, the default value for `weights_only` will be flipped to `True`. This limits the functions that could be executed during unpickling. Arbitrary objects will no longer be allowed to be loaded via this mode unless they are explicitly allowlisted by the user via `torch.serialization.add_safe_globals`. We recommend you start setting `weights_only=True` for any use case where you don't have full control of the loaded file. Please open an issue on GitHub for any issues related to this experimental feature.\n",
      "  densenet.load_state_dict(torch.load('/home/abel/Downloads/TCC-PUC-Melanoma-Detection/result_models/densenet121_melanoma.pth'))\n"
     ]
    }
   ],
   "source": [
    "import torch\n",
    "from torchvision import models\n",
    "from torchvision import datasets, transforms\n",
    "from torch.utils.data import DataLoader\n",
    "from sklearn.metrics import accuracy_score, f1_score\n",
    "\n",
    "mobilenet = models.mobilenet_v2(pretrained=False)\n",
    "resnet = models.resnet50(pretrained=False)\n",
    "densenet = models.densenet121(pretrained=False)\n",
    "\n",
    "# MobileNetV2\n",
    "mobilenet.classifier[1] = torch.nn.Linear(in_features=1280, out_features=2)\n",
    "mobilenet.load_state_dict(torch.load('/home/abel/Downloads/TCC-PUC-Melanoma-Detection/result_models/mobilenet_v2_melanoma.pth'))\n",
    "\n",
    "# ResNet-50\n",
    "resnet.fc = torch.nn.Linear(in_features=2048, out_features=2)  # A camada fc recebe 2048 entradas\n",
    "resnet.load_state_dict(torch.load('/home/abel/Downloads/TCC-PUC-Melanoma-Detection/result_models/resnet_50_melanoma.pth'))\n",
    "\n",
    "# DenseNet-121\n",
    "densenet.classifier = torch.nn.Linear(in_features=1024, out_features=2)\n",
    "densenet.load_state_dict(torch.load('/home/abel/Downloads/TCC-PUC-Melanoma-Detection/result_models/densenet121_melanoma.pth'))\n",
    "\n",
    "print(\"Modelos carregados com sucesso!\")"
   ]
  },
  {
   "cell_type": "markdown",
   "id": "03de9c7e-7cd3-40ee-b4fb-b2cf8c156cd3",
   "metadata": {},
   "source": [
    "Carregar o conjunto de dados de teste"
   ]
  },
  {
   "cell_type": "code",
   "execution_count": 5,
   "id": "6db12442-09df-4bbe-a689-18aedfe98143",
   "metadata": {},
   "outputs": [],
   "source": [
    "test_transforms = transforms.Compose([\n",
    "    transforms.Resize(256),\n",
    "    transforms.CenterCrop(224),\n",
    "    transforms.ToTensor()\n",
    "])\n",
    "\n",
    "# Carregar dataset de teste\n",
    "test_dataset = datasets.ImageFolder('/home/abel/Downloads/TCC-PUC-Melanoma-Detection/dataset/test', transform=test_transforms)\n",
    "test_loader = DataLoader(test_dataset, batch_size=32, shuffle=False)"
   ]
  },
  {
   "cell_type": "markdown",
   "id": "7ffc1287-31a1-421b-8e50-9048836ee17a",
   "metadata": {},
   "source": [
    "Realizar a inferência de cada modelo"
   ]
  },
  {
   "cell_type": "code",
   "execution_count": 6,
   "id": "296c29de-715c-4058-b9dd-e14d70802630",
   "metadata": {},
   "outputs": [],
   "source": [
    "def evaluate_model(model, test_loader, device):\n",
    "    model.eval()  \n",
    "    model.to(device)      \n",
    "    correct = 0\n",
    "    total = 0\n",
    "    all_preds = []\n",
    "    all_labels = []\n",
    "\n",
    "    with torch.no_grad():  \n",
    "        for inputs, labels in test_loader:\n",
    "            inputs, labels = inputs.to(device), labels.to(device) \n",
    "            outputs = model(inputs)\n",
    "            _, preds = torch.max(outputs, 1)\n",
    "            correct += (preds == labels).sum().item()\n",
    "            total += labels.size(0)\n",
    "            all_preds.extend(preds.cpu().numpy())  \n",
    "            all_labels.extend(labels.cpu().numpy())  \n",
    "\n",
    "    accuracy = correct / total\n",
    "    return accuracy, all_preds, all_labels"
   ]
  },
  {
   "cell_type": "markdown",
   "id": "ce849ec3-4165-4394-9fe3-9ba82f265705",
   "metadata": {},
   "source": [
    "Calcular as métricas"
   ]
  },
  {
   "cell_type": "code",
   "execution_count": 7,
   "id": "95a2fc0b-809a-42bf-a74d-a08e71058cb2",
   "metadata": {},
   "outputs": [],
   "source": [
    "def calculate_metrics(all_preds, all_labels):\n",
    "    accuracy = accuracy_score(all_labels, all_preds)\n",
    "    f1 = f1_score(all_labels, all_preds, average='weighted')  # Para lidar com classes desbalanceadas\n",
    "    return accuracy, f1"
   ]
  },
  {
   "cell_type": "markdown",
   "id": "28bf4997-7c12-4785-ac3d-a0578fed5dc6",
   "metadata": {},
   "source": [
    "Avaliar os modelos e comparar os resultados"
   ]
  },
  {
   "cell_type": "code",
   "execution_count": 8,
   "id": "b122bc62-ff4b-4900-abfb-5f2241d5f08e",
   "metadata": {},
   "outputs": [
    {
     "name": "stdout",
     "output_type": "stream",
     "text": [
      "MobileNetV2 - Acurácia: 0.9273, F1 Score: 0.8956\n",
      "ResNet-50 - Acurácia: 0.9200, F1 Score: 0.8852\n",
      "DenseNet-121 - Acurácia: 0.9164, F1 Score: 0.8893\n"
     ]
    }
   ],
   "source": [
    "device = torch.device(\"cuda\" if torch.cuda.is_available() else \"cpu\")\n",
    "\n",
    "# Avaliar cada modelo\n",
    "acc_mobilenet, preds_mobilenet, labels_mobilenet = evaluate_model(mobilenet, test_loader, device)\n",
    "acc_resnet, preds_resnet, labels_resnet = evaluate_model(resnet, test_loader, device)\n",
    "acc_densenet, preds_densenet, labels_densenet = evaluate_model(densenet, test_loader, device)\n",
    "\n",
    "# Calcular as métricas para cada modelo\n",
    "acc_mobilenet, f1_mobilenet = calculate_metrics(preds_mobilenet, labels_mobilenet)\n",
    "acc_resnet, f1_resnet = calculate_metrics(preds_resnet, labels_resnet)\n",
    "acc_densenet, f1_densenet = calculate_metrics(preds_densenet, labels_densenet)\n",
    "\n",
    "# Exibir os resultados\n",
    "print(f'MobileNetV2 - Acurácia: {acc_mobilenet:.4f}, F1 Score: {f1_mobilenet:.4f}')\n",
    "print(f'ResNet-50 - Acurácia: {acc_resnet:.4f}, F1 Score: {f1_resnet:.4f}')\n",
    "print(f'DenseNet-121 - Acurácia: {acc_densenet:.4f}, F1 Score: {f1_densenet:.4f}')"
   ]
  },
  {
   "cell_type": "code",
   "execution_count": null,
   "id": "c3b76d76-2add-4073-a7cc-da8021d54e42",
   "metadata": {},
   "outputs": [],
   "source": []
  }
 ],
 "metadata": {
  "kernelspec": {
   "display_name": "Python 3 (ipykernel)",
   "language": "python",
   "name": "python3"
  },
  "language_info": {
   "codemirror_mode": {
    "name": "ipython",
    "version": 3
   },
   "file_extension": ".py",
   "mimetype": "text/x-python",
   "name": "python",
   "nbconvert_exporter": "python",
   "pygments_lexer": "ipython3",
   "version": "3.8.19"
  }
 },
 "nbformat": 4,
 "nbformat_minor": 5
}
